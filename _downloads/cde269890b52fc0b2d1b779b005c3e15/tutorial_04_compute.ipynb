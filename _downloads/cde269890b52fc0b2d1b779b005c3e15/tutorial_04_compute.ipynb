{
  "cells": [
    {
      "cell_type": "code",
      "execution_count": null,
      "metadata": {
        "collapsed": false
      },
      "outputs": [],
      "source": [
        "%matplotlib inline"
      ]
    },
    {
      "cell_type": "markdown",
      "metadata": {},
      "source": [
        "\n# Compute Customization\n\n**Author**: Yi-Hsiang Lai (seanlatias@github)\n\nIn this tutorial, we will demonstrate how to apply hardware customization to a\nHeteroCL application. More specifically, we will focus on compute\ncustomization, including loop transformation and parallelism. We will\nintroduce several compute customization primitives.\n"
      ]
    },
    {
      "cell_type": "code",
      "execution_count": null,
      "metadata": {
        "collapsed": false
      },
      "outputs": [],
      "source": [
        "import heterocl as hcl"
      ]
    },
    {
      "cell_type": "markdown",
      "metadata": {},
      "source": [
        "## Hardware Customization\nHardware customization is important in hardware applications. HeteroCL\nprovides a clean abstraction that can capture different types of hardware\ncustomization. Typical hardware customization includes compute customization,\ndata type customization, and memory customization. In this tutorial, we will\nfocus on compute customization. We can categorize compute customization into\ntwo types: loop transformation and parallelism. We will introduce them\nrespectively. This is also where ``hcl.create_schedule`` comes in. We will\nuse a single two-stage computation to demonstrate some of the customization\nprimitives.\n\n"
      ]
    },
    {
      "cell_type": "code",
      "execution_count": null,
      "metadata": {
        "collapsed": false
      },
      "outputs": [],
      "source": [
        "hcl.init()\n\nA = hcl.placeholder((10, 100), \"A\")\n\n\ndef two_stage(A):\n    B = hcl.compute(A.shape, lambda x, y: A[x, y] + 1, \"B\")\n    C = hcl.compute(A.shape, lambda x, y: B[x, y] + 1, \"C\")\n    return C\n\n\ns = hcl.create_schedule([A], two_stage)\ns_B = two_stage.B"
      ]
    },
    {
      "cell_type": "markdown",
      "metadata": {},
      "source": [
        "Note that we can get the stage by accessing the properties of the function\nthat defines the algorithm `two_stage`. To access the stage in this way, you\n**need to name the stages**.\n\nThis is the generated IR without applying any hardware customization.\n\n"
      ]
    },
    {
      "cell_type": "code",
      "execution_count": null,
      "metadata": {
        "collapsed": false
      },
      "outputs": [],
      "source": [
        "print(hcl.lower(s))"
      ]
    },
    {
      "cell_type": "markdown",
      "metadata": {},
      "source": [
        "We can take a look at the dataflow graph to visualize the relation between\nstages.\n\n"
      ]
    },
    {
      "cell_type": "code",
      "execution_count": null,
      "metadata": {
        "collapsed": false
      },
      "outputs": [],
      "source": [
        "try:\n    s.dataflow_graph(plot=True)\nexcept:\n    pass"
      ]
    },
    {
      "cell_type": "markdown",
      "metadata": {},
      "source": [
        "## Loop Transformation\nApplying loop transformations to our application can potentially increase\nthe parallelism inside our program. HeteroCL provides several loop\ntransformation primitives.\n\n### ``reorder``\nThe first primitive we introduce here is loop reordering. With this primitive,\nwe can redefine the order of a loop nest. For example,\n\n"
      ]
    },
    {
      "cell_type": "code",
      "execution_count": null,
      "metadata": {
        "collapsed": false
      },
      "outputs": [],
      "source": [
        "s = hcl.create_schedule([A], two_stage)\ns[s_B].reorder(s_B.axis[1], s_B.axis[0])"
      ]
    },
    {
      "cell_type": "markdown",
      "metadata": {},
      "source": [
        "To apply a compute customization primitive, we need to use the schedule\nwe created. We can also access the axis of a stage by its index. In this\nexample, `s_B.axis[0]` refers to axis `x`. Similarly, `s_B.axis[1]` refers\nto axis `y`. We can take a look at the generated IR.\n\n"
      ]
    },
    {
      "cell_type": "code",
      "execution_count": null,
      "metadata": {
        "collapsed": false
      },
      "outputs": [],
      "source": [
        "print(hcl.lower(s))"
      ]
    },
    {
      "cell_type": "markdown",
      "metadata": {},
      "source": [
        "We can see that axis `x` and axis `y` are indeed reordered.\n\n### ``split``\nThis primitive allows users a to split an axis with a given factor. Namely,\na loop will be split into two sub-loops. For example,\n\n"
      ]
    },
    {
      "cell_type": "code",
      "execution_count": null,
      "metadata": {
        "collapsed": false
      },
      "outputs": [],
      "source": [
        "s = hcl.create_schedule([A], two_stage)\ns_B = two_stage.B\nx_out, x_in = s[s_B].split(s_B.axis[0], 5)"
      ]
    },
    {
      "cell_type": "markdown",
      "metadata": {},
      "source": [
        "Here we recreate a new schedule so that we will not confuse it with the\nprevious schedule. We can see that, with the ``hcl.split`` primitive, we get\ntwo new axes `x_out` and `x_in`. To make it clear, let's take a look at the\ngenerated IR.\n\n"
      ]
    },
    {
      "cell_type": "code",
      "execution_count": null,
      "metadata": {
        "collapsed": false
      },
      "outputs": [],
      "source": [
        "print(hcl.lower(s))"
      ]
    },
    {
      "cell_type": "markdown",
      "metadata": {},
      "source": [
        "The returned variable `x_out` corresponds to the axis `x.outer` in the IR.\nSince we split the axis with a factor 5, now the outer loop only iterates\ntwo times with the inner loop iterating from 0 to 5. We can further combine\nthe `reorder` primitive we just introduced.\n\n"
      ]
    },
    {
      "cell_type": "code",
      "execution_count": null,
      "metadata": {
        "collapsed": false
      },
      "outputs": [],
      "source": [
        "s = hcl.create_schedule([A], two_stage)\ns[s_B].reorder(s_B.axis[1], x_out, x_in)\n\nprint(hcl.lower(s))"
      ]
    },
    {
      "cell_type": "markdown",
      "metadata": {},
      "source": [
        "In the generated IR, we can see that the three axes are reordered according\nto what we specified.\n\n### ``fuse``\nThis primitives is the reversed version of ``hcl.split``. Namely, we can\nfuse **two consecutive** sub-loops into a single loop.\n\n"
      ]
    },
    {
      "cell_type": "code",
      "execution_count": null,
      "metadata": {
        "collapsed": false
      },
      "outputs": [],
      "source": [
        "s = hcl.create_schedule([A], two_stage)\ns_B = two_stage.B\nx_y = s[s_B].fuse(s_B.axis[0], s_B.axis[1])\n\nprint(hcl.lower(s))"
      ]
    },
    {
      "cell_type": "markdown",
      "metadata": {},
      "source": [
        "Similar to the previous example, we recreate a new schedule. Here we fuse\nthe two axes `x` and `y` into a single axis `x_y`, which corresponds to\n`x.y.fused` in the generated IR. Now the loop iterates from 0 to 1000, as\nexpected.\n\n### ``compute_at``\nPreviously, we focus on the loop transformation within one stage. However,\nwe can also perform loop transformations across multi-stages. This primitive\nallows users to merge the loops from two stages. The idea behind it is to\ncompute a stage within another stage so that we can reuse some partial\nresults.\n\n"
      ]
    },
    {
      "cell_type": "code",
      "execution_count": null,
      "metadata": {
        "collapsed": false
      },
      "outputs": [],
      "source": [
        "s = hcl.create_schedule([A], two_stage)\ns_B = two_stage.B\ns_C = two_stage.C\ns[s_B].compute_at(s[s_C], s_C.axis[0])"
      ]
    },
    {
      "cell_type": "markdown",
      "metadata": {},
      "source": [
        "In this example, we specify stage B to be computed within stage C at the\nfirst axis `x`. Originally, we first completely compute stage B and then\nstage C. However, in this scenario, after we finish the computation of\nstage B axis `y`, we do not continue on computing the next `x`. Instead,\nwe go on to compute stage C axis `y`. It would be easier to understand with\nthe generated IR.\n\n"
      ]
    },
    {
      "cell_type": "code",
      "execution_count": null,
      "metadata": {
        "collapsed": false
      },
      "outputs": [],
      "source": [
        "print(hcl.lower(s))"
      ]
    },
    {
      "cell_type": "markdown",
      "metadata": {},
      "source": [
        "We can observe from the IR that now both stages share the same outer loop\n`x`. Moreover, we only need to allocate the memory for partial results.\n\n## Parallelism\nIn addition to loop transformations, we can also explore the parallelism\nwithin an applications. In this category, normally we just annotate the\nloop and the backend code generator will handle the rest. Thus, we do not\nexplain each parallelism primitive one by one. The primitives we support\ninclude ``unroll``, ``parallel``, and ``pipeline``.\n\n## Combine All Together\nFinally, we can combine different compute customization primitives together.\n\n"
      ]
    },
    {
      "cell_type": "code",
      "execution_count": null,
      "metadata": {
        "collapsed": false
      },
      "outputs": [],
      "source": [
        "s = hcl.create_schedule([A], two_stage)\ns_B = two_stage.B\ns_C = two_stage.C\n\ns[s_B].reorder(s_B.axis[1], s_B.axis[0])\ns[s_C].reorder(s_C.axis[1], s_C.axis[0])\ns[s_B].compute_at(s[s_C], s_C.axis[0])\ns[s_C].parallel(s_C.axis[1])\ns[s_C].pipeline(s_C.axis[0])\n\nprint(hcl.lower(s))"
      ]
    },
    {
      "cell_type": "markdown",
      "metadata": {},
      "source": [
        "## Apply to Imperative DSL\nHeteroCL also lets users to apply these primitives to imperative DSLs. In\nother words, all the loops written with ``hcl.for_`` can be applied. To do\nthat, we also need to name those axes.\n\n"
      ]
    },
    {
      "cell_type": "code",
      "execution_count": null,
      "metadata": {
        "collapsed": false
      },
      "outputs": [],
      "source": [
        "hcl.init()\n\nA = hcl.placeholder((10,))\n\n\ndef custom_imperative(A):\n    with hcl.for_(0, 10, tag=\"S\", name=\"i\") as i:\n        A[i] = i - 10\n\n\ns = hcl.create_schedule([A], custom_imperative)\ns_S = custom_imperative.S\ni_out, i_in = s[s_S].split(s_S.i, 2)\n\nprint(hcl.lower(s))"
      ]
    },
    {
      "cell_type": "markdown",
      "metadata": {},
      "source": [
        "We can also access the imperative axes with their showing up order.\n\n"
      ]
    },
    {
      "cell_type": "code",
      "execution_count": null,
      "metadata": {
        "collapsed": false
      },
      "outputs": [],
      "source": [
        "assert s_S.i == s_S.axis[0]"
      ]
    }
  ],
  "metadata": {
    "kernelspec": {
      "display_name": "Python 3",
      "language": "python",
      "name": "python3"
    },
    "language_info": {
      "codemirror_mode": {
        "name": "ipython",
        "version": 3
      },
      "file_extension": ".py",
      "mimetype": "text/x-python",
      "name": "python",
      "nbconvert_exporter": "python",
      "pygments_lexer": "ipython3",
      "version": "3.10.1"
    }
  },
  "nbformat": 4,
  "nbformat_minor": 0
}