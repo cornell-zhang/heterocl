{
  "cells": [
    {
      "cell_type": "code",
      "execution_count": null,
      "metadata": {
        "collapsed": false
      },
      "outputs": [],
      "source": [
        "%matplotlib inline"
      ]
    },
    {
      "cell_type": "markdown",
      "metadata": {},
      "source": [
        "\n# Imperative Programming\n\n**Author**: Yi-Hsiang Lai (seanlatias@github)\n\nThere exist many applications that cannot be described using only vectorized\ncode such as `hcl.compute`. Thus, we introduce imperative programming in\nHeteroCL, which makes HeteroCL applications more expressive. In this tutorial,\nwe will implement *insertion sort* in HeteroCL.\n"
      ]
    },
    {
      "cell_type": "code",
      "execution_count": null,
      "metadata": {
        "collapsed": false
      },
      "outputs": [],
      "source": [
        "import heterocl as hcl\n\nhcl.init()\n\nA = hcl.placeholder((10,), \"A\")"
      ]
    },
    {
      "cell_type": "markdown",
      "metadata": {},
      "source": [
        "## Stages in HeteroCL\nIn HeteroCL, when users write an application, they are actually building a\ncompute graph. Each node in a graph is a *stage*. Each edge is directed,\nwhich represents the data flow between two stages. Some HeteroCL APIs\nnaturally form a stage, such as ``hcl.compute``. Since the imperative code\nwe are going to write cannot be described using a HeteroCL API, we need to\nwrap it as a stage explicitly via ``hcl.Stage``. Users can specify the name\nof a stage, which is optional. Note that **a HeteroCL application must have\nat least one stage**.\n\n"
      ]
    },
    {
      "cell_type": "code",
      "execution_count": null,
      "metadata": {
        "collapsed": false
      },
      "outputs": [],
      "source": [
        "def insertion_sort(A):\n    # for i in range(1, A.shape[0])\n    # We can name the axis\n    with hcl.for_(1, A.shape[0], tag=\"i\") as i:\n        key = hcl.scalar(A[i], \"key\")\n        j = hcl.scalar(i - 1, \"j\")\n        # while(j >= 0 && key < A[j])\n        with hcl.while_(hcl.and_(j.v >= 0, key.v < A[j.v])):\n            A[j.v + 1] = A[j.v]\n            j.v -= 1\n        A[j.v + 1] = key.v"
      ]
    },
    {
      "cell_type": "markdown",
      "metadata": {},
      "source": [
        "## Imperative DSL\nTo write imperative code in HeteroCL, we need to use a subset of HeteroCL\nDSL, which is *imperative DSL*. HeteroCL's imperative DSL supports a subset\nof Python's control flow statements, including conditional statements and\ncontrol flows. In the above code, we show how we can use ``hcl.for_`` to\nwrite a `for` loop and ``hcl.while_`` to write a `while` loop. Moreover, we\nuse ``hcl.and_`` for logical expressions. Here we also introduce a new API,\nwhich is ``hcl.scalar``. It is equivalent to\n\n``hcl.compute((1,))``\n\nNamely, it declares a tensor with exactly one element, which can be treated\nas a **stateful scalar**. Following we show the execution results of the\nimplemented sorting algorithm.\n\n<div class=\"alert alert-info\"><h4>Note</h4><p>Currently we support the following imperative DSLs. Logic operations:\n   :obj:`heterocl.and_`, :obj:`heterocl.or_`. Control flow statements:\n   :obj:`heterocl.if_`, :obj:`heterocl.else_`, :obj:`heterocl.elif_`,\n   :obj:`heterocl.for_`, :obj:`heterocl.while_`, :obj:`heterocl.break_`.</p></div>\n\n"
      ]
    },
    {
      "cell_type": "code",
      "execution_count": null,
      "metadata": {
        "collapsed": false
      },
      "outputs": [],
      "source": [
        "s = hcl.create_schedule([A], insertion_sort)"
      ]
    },
    {
      "cell_type": "markdown",
      "metadata": {},
      "source": [
        "We can inspect the generated IR.\n\n"
      ]
    },
    {
      "cell_type": "code",
      "execution_count": null,
      "metadata": {
        "collapsed": false
      },
      "outputs": [],
      "source": [
        "print(hcl.lower(s))"
      ]
    },
    {
      "cell_type": "markdown",
      "metadata": {},
      "source": [
        "Finally, we build the executable and feed it with Numpy arrays.\n\n"
      ]
    },
    {
      "cell_type": "code",
      "execution_count": null,
      "metadata": {
        "collapsed": false
      },
      "outputs": [],
      "source": [
        "f = hcl.build(s)\n\nimport numpy as np\n\nhcl_A = hcl.asarray(np.random.randint(50, size=(10,)))\n\nprint(\"Before sorting:\")\nprint(hcl_A)\n\nf(hcl_A)\n\nprint(\"After sorting:\")\nnp_A = hcl_A.asnumpy()\nprint(np_A)"
      ]
    },
    {
      "cell_type": "markdown",
      "metadata": {},
      "source": [
        "Let's run some tests for verification.\n\n"
      ]
    },
    {
      "cell_type": "code",
      "execution_count": null,
      "metadata": {
        "collapsed": false
      },
      "outputs": [],
      "source": [
        "for i in range(1, 10):\n    assert np_A[i] >= np_A[i - 1]"
      ]
    },
    {
      "cell_type": "markdown",
      "metadata": {},
      "source": [
        "## Bit Operations\nHeteroCL also support bit operations including setting/getting a bit/slice\nfrom a number. This is useful for integer and fixed-point operations.\nFollowing we show some basic examples.\n\n"
      ]
    },
    {
      "cell_type": "code",
      "execution_count": null,
      "metadata": {
        "collapsed": false
      },
      "outputs": [],
      "source": [
        "hcl.init()\nA = hcl.placeholder((10,), \"A\")\n\n\ndef kernel(A):\n    # get the LSB of A\n    B = hcl.compute(A.shape, lambda x: A[x][0], \"B\")\n    # get the lower 4-bit of A\n    C = hcl.compute(A.shape, lambda x: A[x][0:4], \"C\")\n    return B, C"
      ]
    },
    {
      "cell_type": "markdown",
      "metadata": {},
      "source": [
        "Note that for the slicing operations, we follow the convention of Python,\nwhich is **lower bound inclusive and upper bound exclusive**.\nNow we can test the results.\n\n"
      ]
    },
    {
      "cell_type": "code",
      "execution_count": null,
      "metadata": {
        "collapsed": false
      },
      "outputs": [],
      "source": [
        "s = hcl.create_schedule(A, kernel)\nf = hcl.build(s)\n\nnp_A = np.random.randint(0, 100, A.shape)\nhcl_A = hcl.asarray(np_A)\nhcl_B = hcl.asarray(np.zeros(A.shape))\nhcl_C = hcl.asarray(np.zeros(A.shape))\n\nf(hcl_A, hcl_B, hcl_C)\n\nprint(\"Input array:\")\nprint(hcl_A)\nprint(\"Least-significant bit:\")\nprint(hcl_B)\nprint(\"Lower four bits:\")\nprint(hcl_C)\n\n# a simple test\nnp_B = hcl_B.asnumpy()\nnp_C = hcl_C.asnumpy()\nfor i in range(0, 10):\n    assert np_B[i] == np_A[i] % 2\n    assert np_C[i] == np_A[i] % 16"
      ]
    },
    {
      "cell_type": "markdown",
      "metadata": {},
      "source": [
        "The operations for bit/slice setting is similar. The only difference is that\nwe need to use imperative DSL. Following is an example.\n\n"
      ]
    },
    {
      "cell_type": "code",
      "execution_count": null,
      "metadata": {
        "collapsed": false
      },
      "outputs": [],
      "source": [
        "hcl.init()\nA = hcl.placeholder((10,), \"A\")\nB = hcl.placeholder((10,), \"B\")\nC = hcl.placeholder((10,), \"C\")\n\n\ndef kernel(A, B, C):\n    with hcl.for_(0, 10, tag=\"S\") as i:\n        # set the LSB of B to be the same as A\n        B[i][0] = A[i][0]\n        # set the lower 4-bit of C\n        C[i][0:4] = A[i]\n\n\ns = hcl.create_schedule([A, B, C], kernel)\nf = hcl.build(s)\n# note that we intentionally limit the range of A\nnp_A = np.random.randint(0, 16, A.shape)\nnp_B = np.random.randint(0, 100, A.shape)\nnp_C = np.random.randint(0, 100, A.shape)\nhcl_A = hcl.asarray(np_A)\nhcl_B = hcl.asarray(np_B)\nhcl_C = hcl.asarray(np_C)\n\nf(hcl_A, hcl_B, hcl_C)\n\nprint(\"Input array:\")\nprint(hcl_A)\nprint(\"Before setting the least-significant bit:\")\nprint(np_B)\nprint(\"After:\")\nprint(hcl_B)\nprint(\"Before setting the lower four bits:\")\nprint(np_C)\nprint(\"After:\")\nprint(hcl_C)\n\n# let's do some checks\nnp_B2 = hcl_B.asnumpy()\nnp_C2 = hcl_C.asnumpy()\n\nassert np.array_equal(np_B2 % 2, np_A % 2)\nassert np.array_equal(np_B2 // 2, np_B // 2)\nassert np.array_equal(np_C2 % 16, np_A)\nassert np.array_equal(np_C2 // 16, np_C // 16)"
      ]
    }
  ],
  "metadata": {
    "kernelspec": {
      "display_name": "Python 3",
      "language": "python",
      "name": "python3"
    },
    "language_info": {
      "codemirror_mode": {
        "name": "ipython",
        "version": 3
      },
      "file_extension": ".py",
      "mimetype": "text/x-python",
      "name": "python",
      "nbconvert_exporter": "python",
      "pygments_lexer": "ipython3",
      "version": "3.10.1"
    }
  },
  "nbformat": 4,
  "nbformat_minor": 0
}