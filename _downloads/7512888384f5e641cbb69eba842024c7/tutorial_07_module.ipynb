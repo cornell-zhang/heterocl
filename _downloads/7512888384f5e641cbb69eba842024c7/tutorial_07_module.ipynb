{
  "cells": [
    {
      "cell_type": "code",
      "execution_count": null,
      "metadata": {
        "collapsed": false
      },
      "outputs": [],
      "source": [
        "%matplotlib inline"
      ]
    },
    {
      "cell_type": "markdown",
      "metadata": {},
      "source": [
        "\n# Custom Module Definition\n\n**Author**: Yi-Hsiang Lai (seanlatias@github.com)\n\nIn this tutorial, we will introduce a new API called ``module``, which allows\nusers to define a hardware module.\n"
      ]
    },
    {
      "cell_type": "code",
      "execution_count": null,
      "metadata": {
        "collapsed": false
      },
      "outputs": [],
      "source": [
        "import heterocl as hcl\nimport numpy as np"
      ]
    },
    {
      "cell_type": "markdown",
      "metadata": {},
      "source": [
        "## Defining a Hardware Module\nIt is important for users to define a hardware module. The main reason is\nthat by reusing the defined hardware module, we can reduce the resource\nusage of the design. To define a module, what we need to do is to define a\nPython function. Then, apply the function with a decorator. Within the\ndecorator, we need to specify the shapes of the arguments. Following we show\nan example of defining a hardware module that return the maximum value of\ntwo tensors with a given index.\n\nNote that in this example, we have three input arguments, which are `A`, `B`,\nand `x`. The first two arguments are tensors with shape `(10,)` while the\nlast argument is a variable. To represent the shape of a variable, we use an\nempty tuple `()`.\n\nAnother thing to be noted is that we use ``hcl.return_`` for the return\nvalue. We can see that we can have multiple `return` statements.\n\n## Use the Defined Module\nTo use the module, it is just like a normal Python call. There is nothing\nspecial here. Following we show an example of finding the element-wise\nmaximum value of four tensors.\n\n"
      ]
    },
    {
      "cell_type": "code",
      "execution_count": null,
      "metadata": {
        "collapsed": false
      },
      "outputs": [],
      "source": [
        "hcl.init()\n\n\ndef maximum(A, B, C, D):\n    # Due to MLIR limitation, hcl.return_ must be the\n    # last statement in the module (i.e. region terminator)\n    # TODO(Niansong): add checker pass for this case\n    # @hcl.def_([A.shape, B.shape, ()])\n    # def find_max(A, B, x):\n    #     with hcl.if_(A[x] > B[x]):\n    #         hcl.return_(A[x])\n    #     with hcl.else_():\n    #         hcl.return_(B[x])\n\n    @hcl.def_([A.shape, B.shape, ()])\n    def find_max(A, B, x):\n        ret = hcl.scalar(0, \"ret\")\n        with hcl.if_(A[x] > B[x]):\n            ret.v = A[x]\n        with hcl.else_():\n            ret.v = B[x]\n        hcl.return_(ret.v)\n\n    max_1 = hcl.compute(A.shape, lambda x: find_max(A, B, x), \"max_1\")\n    max_2 = hcl.compute(A.shape, lambda x: find_max(C, D, x), \"max_2\")\n    return hcl.compute(A.shape, lambda x: find_max(max_1, max_2, x), \"max_o\")"
      ]
    },
    {
      "cell_type": "markdown",
      "metadata": {},
      "source": [
        "We can first inspect the generated IR. You can see that for each computation,\nwe reuse the same module to find the maximum.\n\n"
      ]
    },
    {
      "cell_type": "code",
      "execution_count": null,
      "metadata": {
        "collapsed": false
      },
      "outputs": [],
      "source": [
        "A = hcl.placeholder((10,), \"A\")\nB = hcl.placeholder((10,), \"B\")\nC = hcl.placeholder((10,), \"C\")\nD = hcl.placeholder((10,), \"D\")\n\ns = hcl.create_schedule([A, B, C, D], maximum)\nprint(s.ast)\nprint(hcl.lower(s))"
      ]
    },
    {
      "cell_type": "markdown",
      "metadata": {},
      "source": [
        "Finally, let's run the algorithm and check the results\n\n"
      ]
    },
    {
      "cell_type": "code",
      "execution_count": null,
      "metadata": {
        "collapsed": false
      },
      "outputs": [],
      "source": [
        "f = hcl.build(s)\n\na = np.random.randint(100, size=(10,))\nb = np.random.randint(100, size=(10,))\nc = np.random.randint(100, size=(10,))\nd = np.random.randint(100, size=(10,))\no = np.zeros(10)\n\nhcl_A = hcl.asarray(a)\nhcl_B = hcl.asarray(b)\nhcl_C = hcl.asarray(c)\nhcl_D = hcl.asarray(d)\nhcl_O = hcl.asarray(o, dtype=hcl.Int())\n\nf(hcl_A, hcl_B, hcl_C, hcl_D, hcl_O)\n\nprint(\"Input tensors:\")\nprint(hcl_A)\nprint(hcl_B)\nprint(hcl_C)\nprint(hcl_D)\nprint(\"Output tensor:\")\nprint(hcl_O)\n\n# Test the correctness\nm1 = np.maximum(a, b)\nm2 = np.maximum(c, d)\nm = np.maximum(m1, m2)\nassert np.array_equal(hcl_O.asnumpy(), m)"
      ]
    },
    {
      "cell_type": "markdown",
      "metadata": {},
      "source": [
        "## Modules Without Return Statement\nHeteroCL also allows users to define modules without a return statement. The\nusage is exactly the same as what we just introduced. The only differece is\nthat the module can be called in a stand-alone way. Namely, it does not need\nto be contained in any HeteroCL APIs. Let's use the same example of finding\nthe maximum. However, this time we update the output directly.\n\n"
      ]
    },
    {
      "cell_type": "code",
      "execution_count": null,
      "metadata": {
        "collapsed": false
      },
      "outputs": [],
      "source": [
        "hcl.init()\n\n\ndef maximum2(A, B, C, D):\n    # B will be the tensor that holds the maximum values\n    @hcl.def_([A.shape, B.shape])\n    def find_max(A, B):\n        with hcl.for_(0, A.shape[0]) as i:\n            with hcl.if_(A[i] > B[i]):\n                B[i] = A[i]\n\n    find_max(A, B)\n    find_max(C, D)\n    find_max(B, D)\n\n\ns = hcl.create_schedule([A, B, C, D], maximum2)\nf = hcl.build(s)"
      ]
    },
    {
      "cell_type": "markdown",
      "metadata": {},
      "source": [
        "In the above example, we can see that now without the return value, we can\ndirectly call the defined module. Let's check the results. They should be\nthe same as our first example.\n\n"
      ]
    },
    {
      "cell_type": "code",
      "execution_count": null,
      "metadata": {
        "collapsed": false
      },
      "outputs": [],
      "source": [
        "f(hcl_A, hcl_B, hcl_C, hcl_D)\n\nprint(\"Output tensor:\")\nprint(hcl_D)\n\n# Test the correctness\nm1 = np.maximum(a, b)\nm2 = np.maximum(c, d)\nm = np.maximum(m1, m2)\nassert np.array_equal(hcl_D.asnumpy(), m)"
      ]
    },
    {
      "cell_type": "markdown",
      "metadata": {},
      "source": [
        "## Data Type Customization for Modules\nWe can also apply data type customization to our defined modules. There are\ntwo ways to do that. First, you can specify the data types directly in the\nmodule decorator. Second, you can use the ``quantize`` and ``downsize`` APIs.\nLet's show how we can downsize the first example.\n\n"
      ]
    },
    {
      "cell_type": "code",
      "execution_count": null,
      "metadata": {
        "collapsed": false
      },
      "outputs": [],
      "source": [
        "A = hcl.placeholder((10,), dtype=hcl.UInt(4))\nB = hcl.placeholder((10,), dtype=hcl.UInt(4))\nC = hcl.placeholder((10,), dtype=hcl.UInt(4))\nD = hcl.placeholder((10,), dtype=hcl.UInt(4))\n\ns = hcl.create_scheme([A, B, C, D], maximum)\n# We also need to downsize the intermediate results\ns.downsize([maximum.max_1, maximum.max_2], hcl.UInt(4))\ns = hcl.create_schedule_from_scheme(s)\nf = hcl.build(s)"
      ]
    },
    {
      "cell_type": "markdown",
      "metadata": {},
      "source": [
        "Let's run it.\n\n"
      ]
    },
    {
      "cell_type": "code",
      "execution_count": null,
      "metadata": {
        "collapsed": false
      },
      "outputs": [],
      "source": [
        "hcl_A = hcl.asarray(a, hcl.UInt(4))\nhcl_B = hcl.asarray(b, hcl.UInt(4))\nhcl_C = hcl.asarray(c, hcl.UInt(4))\nhcl_D = hcl.asarray(d, hcl.UInt(4))\nhcl_O = hcl.asarray(o)\n\nf(hcl_A, hcl_B, hcl_C, hcl_D, hcl_O)\n\nprint(\"Downsized output tensor:\")\nprint(hcl_O)"
      ]
    },
    {
      "cell_type": "markdown",
      "metadata": {},
      "source": [
        "We can see that the results are downsized to 4-bit numbers. We can double\ncheck this.\n\n"
      ]
    },
    {
      "cell_type": "code",
      "execution_count": null,
      "metadata": {
        "collapsed": false
      },
      "outputs": [],
      "source": [
        "# Test the correctness\nm1 = np.maximum(a % 16, b % 16)\nm2 = np.maximum(c % 16, d % 16)\nm = np.maximum(m1 % 16, m2 % 16)\nassert np.array_equal(hcl_O.asnumpy(), m)"
      ]
    }
  ],
  "metadata": {
    "kernelspec": {
      "display_name": "Python 3",
      "language": "python",
      "name": "python3"
    },
    "language_info": {
      "codemirror_mode": {
        "name": "ipython",
        "version": 3
      },
      "file_extension": ".py",
      "mimetype": "text/x-python",
      "name": "python",
      "nbconvert_exporter": "python",
      "pygments_lexer": "ipython3",
      "version": "3.10.1"
    }
  },
  "nbformat": 4,
  "nbformat_minor": 0
}