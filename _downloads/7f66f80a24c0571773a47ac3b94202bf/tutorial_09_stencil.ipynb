{
  "cells": [
    {
      "cell_type": "code",
      "execution_count": null,
      "metadata": {
        "collapsed": false
      },
      "outputs": [],
      "source": [
        "%matplotlib inline"
      ]
    },
    {
      "cell_type": "markdown",
      "metadata": {},
      "source": [
        "\n# Use the Stencil Backend\n**Author**: Yuze Chi (Blaok)\n\nIn this tutorial, we show how to use the stencil backend in HeteroCL and\ngenerate HLS C++ code as the result.\n"
      ]
    },
    {
      "cell_type": "code",
      "execution_count": null,
      "metadata": {
        "collapsed": false
      },
      "outputs": [],
      "source": [
        "import numpy as np\n\nimport heterocl as hcl"
      ]
    },
    {
      "cell_type": "markdown",
      "metadata": {},
      "source": [
        "## Stencil Comptuation\nStencil kernels compute output based on a sliding window over the input. The\nfollowing shows an example. It computes the average over a 5-point window.\n\n"
      ]
    },
    {
      "cell_type": "code",
      "execution_count": null,
      "metadata": {
        "collapsed": false
      },
      "outputs": [],
      "source": [
        "def jacobi(input_image, output_image):\n    def jacobi_kernel(y, x):\n        return (\n            input_image[y + 1, x - 1]\n            + input_image[y, x]\n            + input_image[y + 1, x]\n            + input_image[y + 1, x + 1]\n            + input_image[y + 2, x]\n        ) / 5\n\n    return hcl.update(output_image, jacobi_kernel, name=output_image.name)"
      ]
    },
    {
      "cell_type": "markdown",
      "metadata": {},
      "source": [
        "## Use the Stencil Backend\nHeteroCL provides a special backend for stencil computation kernels. It can\nbe used via the `target` argument when building a program.\n\n"
      ]
    },
    {
      "cell_type": "code",
      "execution_count": null,
      "metadata": {
        "collapsed": false
      },
      "outputs": [],
      "source": [
        "dtype = hcl.Float()\ninput_image = hcl.placeholder((480, 640), name=\"input\", dtype=dtype)\noutput_image = hcl.placeholder((480, 640), name=\"output\", dtype=dtype)\nsoda_schedule = hcl.create_schedule([input_image, output_image], jacobi)\n# soda_schedule[jacobi.output].stencil()\n# print(hcl.build(soda_schedule, target='soda'))"
      ]
    },
    {
      "cell_type": "markdown",
      "metadata": {},
      "source": [
        "## Increase Parallelism\nThe above program is written in the SODA DSL, which provides advanced\noptimizations to stencil kernels. One of the optimizations is to provide\nscalable parallelism. To increase parallelism, one can unroll the inner-most\nstencil loop, as follows. The same SODA DSL will be generated, except the\nunroll factor will become 8.\n\n"
      ]
    },
    {
      "cell_type": "code",
      "execution_count": null,
      "metadata": {
        "collapsed": false
      },
      "outputs": [],
      "source": [
        "soda_schedule = hcl.create_schedule([input_image, output_image], jacobi)\n# soda_schedule[jacobi.output].stencil(unroll_factor=8)\n# print(hcl.build(soda_schedule, target='soda'))"
      ]
    },
    {
      "cell_type": "markdown",
      "metadata": {},
      "source": [
        "## Generatel HLS C++ Code\nThe SODA DSL certainly does not compile directly. It needs to be passed to\nthe SODA Compiler. HeteroCL provides a built-in target that generates HLS\nC++ code from the intermediate SODA code directly. The generated C++ code is\nvalid HLS code and can be passed to HLS vendor tools without modifications.\n\n"
      ]
    },
    {
      "cell_type": "code",
      "execution_count": null,
      "metadata": {
        "collapsed": false
      },
      "outputs": [],
      "source": [
        "# print(hcl.build(soda_schedule, target='soda_xhls'))"
      ]
    }
  ],
  "metadata": {
    "kernelspec": {
      "display_name": "Python 3",
      "language": "python",
      "name": "python3"
    },
    "language_info": {
      "codemirror_mode": {
        "name": "ipython",
        "version": 3
      },
      "file_extension": ".py",
      "mimetype": "text/x-python",
      "name": "python",
      "nbconvert_exporter": "python",
      "pygments_lexer": "ipython3",
      "version": "3.10.1"
    }
  },
  "nbformat": 4,
  "nbformat_minor": 0
}