{
  "cells": [
    {
      "cell_type": "code",
      "execution_count": null,
      "metadata": {
        "collapsed": false
      },
      "outputs": [],
      "source": [
        "%matplotlib inline"
      ]
    },
    {
      "cell_type": "markdown",
      "metadata": {},
      "source": [
        "\n# HeteroCL Compute APIs\n\n**Author**: Yi-Hsiang Lai (seanlatias@github)\n\nIn this tutorial, we will show more HeteroCL compute APIs. These APIs are used\nto build the algorithm. Note that in HeteroCL, the compute APIs can be used\nalong with the imperative DSL.\n"
      ]
    },
    {
      "cell_type": "code",
      "execution_count": null,
      "metadata": {
        "collapsed": false
      },
      "outputs": [],
      "source": [
        "import heterocl as hcl"
      ]
    },
    {
      "cell_type": "markdown",
      "metadata": {},
      "source": [
        "## ``hcl.compute``\nWe have introduced this API before. This API returns a **new tensor** whose\nvalues are defined in an elementwise fashion. Following we show the API's\nprototype.\n\n``compute(shape, fcompute, name, dtype)``\n\n``shape`` defines the shape of the output tensor. ``fcompute`` is a lambda\nfunction that describes the elementwise definition. ``name`` and ``dtype``\nare optional. We show an example below.\n\n"
      ]
    },
    {
      "cell_type": "code",
      "execution_count": null,
      "metadata": {
        "collapsed": false
      },
      "outputs": [],
      "source": [
        "hcl.init()\n\nA = hcl.placeholder((10,), \"A\")\nB = hcl.placeholder((10,), \"B\")\n\n\ndef compute_example(A, B):\n    return hcl.compute(A.shape, lambda x: A[x] + B[x], \"C\")\n\n\ns = hcl.create_schedule([A, B], compute_example)\nprint(hcl.lower(s))"
      ]
    },
    {
      "cell_type": "markdown",
      "metadata": {},
      "source": [
        "## ``hcl.update``\nThis API is similar to `hcl.compute` in that it defines how you **update a\ntensor** in an elementwise fashion. Note that this API does not return a\nnew tensor. More specifically, the return value is `None`.\n\n``hcl.update(tensor, fupdate, name)``\n\n``tensor`` is the tensor we want ot update. ``fupate`` is a lambda function\nthat describes the elelmentwise update behavior. ``name`` is optional. We\nshow an example below that does the similar computation as `compute_example`.\nThe difference is that instead of returning a new tensor `C`, we send it in\nas an input and update it in place. We can see that the generated IR is\nalmost the same.\n\n"
      ]
    },
    {
      "cell_type": "code",
      "execution_count": null,
      "metadata": {
        "collapsed": false
      },
      "outputs": [],
      "source": [
        "hcl.init()\nA = hcl.placeholder((10,), \"A\")\nB = hcl.placeholder((10,), \"B\")\nC = hcl.placeholder((10,), \"C\")\n\n\ndef update_example(A, B, C):\n    hcl.update(C, lambda x: A[x] + B[x], \"U\")\n\n\ns = hcl.create_schedule([A, B, C], update_example)\nprint(hcl.lower(s))"
      ]
    },
    {
      "cell_type": "markdown",
      "metadata": {},
      "source": [
        "## ``hcl.mutate``\nThis API allows users to describe any loops with vector code, even if the\nloop body does not have any common pattern or contains imperative DSL.\nThis API is useful when we want to perform optimization.\n\n``hcl.mutate(domain, fbody, name)``\n\n``domain`` describes the iteration domain of our original `for` loop.\n``fbody`` is the body statement of the `for` loop. ``name`` is optional. We\ncan describe the same computation in the previous two examples using this\nAPI.\n\n"
      ]
    },
    {
      "cell_type": "code",
      "execution_count": null,
      "metadata": {
        "collapsed": false
      },
      "outputs": [],
      "source": [
        "hcl.init()\nA = hcl.placeholder((10,), \"A\")\nB = hcl.placeholder((10,), \"B\")\nC = hcl.placeholder((10,), \"C\")\n\n\ndef mut_example(A, B, C):\n    def loop_body(x):\n        C[x] = A[x] + B[x]\n\n    hcl.mutate((10,), lambda x: loop_body(x), \"M\")\n\n\ns = hcl.create_schedule([A, B, C], mut_example)\nprint(hcl.lower(s))"
      ]
    },
    {
      "cell_type": "markdown",
      "metadata": {},
      "source": [
        "Note that in this example, we are not allowed to directly write the\nassignment statement inside the lambda function. This is forbidden by Python\nsyntax rules.\n\n## Combine Imperative DSL with Compute APIs\nHeteroCL allows users to write a mixed-paradigm programming application.\nThis is common when performing reduction operations. Although HeteroCL\nprovides APIs for simple reduction operations such as summation and finding\nthe maximum number, for more complexed reduction operations such as sorting,\nwe need to describe them manually. Following we show an example of finding\nthe maximum two values in a tensor.\n\n"
      ]
    },
    {
      "cell_type": "code",
      "execution_count": null,
      "metadata": {
        "collapsed": false
      },
      "outputs": [],
      "source": [
        "hcl.init()\nA = hcl.placeholder((10,), \"A\")\nM = hcl.placeholder((2,), \"M\")\n\n\ndef find_max_two(A, M):\n    def loop_body(x):\n        with hcl.if_(A[x] > M[0]):\n            with hcl.if_(A[x] > M[1]):\n                M[0] = M[1]\n                M[1] = A[x]\n            with hcl.else_():\n                M[0] = A[x]\n\n    hcl.mutate(A.shape, lambda x: loop_body(x))\n\n\ns = hcl.create_schedule([A, M], find_max_two)\nf = hcl.build(s)\n\nimport numpy as np\n\nhcl_A = hcl.asarray(np.random.randint(50, size=(10,)))\nhcl_M = hcl.asarray(np.array([-1, -1]))\n\nf(hcl_A, hcl_M)\n\nnp_A = hcl_A.asnumpy()\nnp_M = hcl_M.asnumpy()\n\nprint(np_A)\nprint(np_M)\n\nassert np.array_equal(np_M, np.sort(np_A)[-2:])"
      ]
    }
  ],
  "metadata": {
    "kernelspec": {
      "display_name": "Python 3",
      "language": "python",
      "name": "python3"
    },
    "language_info": {
      "codemirror_mode": {
        "name": "ipython",
        "version": 3
      },
      "file_extension": ".py",
      "mimetype": "text/x-python",
      "name": "python",
      "nbconvert_exporter": "python",
      "pygments_lexer": "ipython3",
      "version": "3.10.1"
    }
  },
  "nbformat": 4,
  "nbformat_minor": 0
}