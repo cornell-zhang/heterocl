{
  "cells": [
    {
      "cell_type": "code",
      "execution_count": null,
      "metadata": {
        "collapsed": false
      },
      "outputs": [],
      "source": [
        "%matplotlib inline"
      ]
    },
    {
      "cell_type": "markdown",
      "metadata": {},
      "source": [
        "\n# Getting Started\n\n**Author**: Yi-Hsiang Lai (seanlatias@github)\n\nIn this tutorial, we demonstrate the basic usage of HeteroCL.\n\n## Import HeteroCL\nWe usually use ``hcl`` as the acronym of HeteroCL.\n"
      ]
    },
    {
      "cell_type": "code",
      "execution_count": null,
      "metadata": {
        "collapsed": false
      },
      "outputs": [],
      "source": [
        "import heterocl as hcl"
      ]
    },
    {
      "cell_type": "markdown",
      "metadata": {},
      "source": [
        "## Initialize the Environment\nWe need to initialize the environment for each HeteroCL application. We can\ndo this by calling the API ``hcl.init()``. We can also set the default data\ntype for every computation via this API. The default data type is **32-bit**\nintegers.\n\n<div class=\"alert alert-info\"><h4>Note</h4><p>For more information on the data types, please see\n   `sphx_glr_gallery_tutorial_05_dtype.py`.</p></div>\n\n"
      ]
    },
    {
      "cell_type": "code",
      "execution_count": null,
      "metadata": {
        "collapsed": false
      },
      "outputs": [],
      "source": [
        "hcl.init()"
      ]
    },
    {
      "cell_type": "markdown",
      "metadata": {},
      "source": [
        "## Algorithm Definition\nAfter we initialize, we define the algorithm by using a Python function\ndefinition, where the arguments are the input tensors. The function can\noptionally return tensors as outputs. In this example, the two inputs are a\nscalar `a` and a tensor `A`, and the output is also a tensor `B`. The main\ndifference between a scalar and a tensor is that *a scalar cannot be updated*.\n\nWithin the algorithm definition, we use HeteroCL APIs to describe the\noperations. In this example, we use a tensor-based declarative-style\noperation ``hcl.compute``. We also show the equivalent  Python code.\n\n<div class=\"alert alert-info\"><h4>Note</h4><p>For more information on the APIs, please see\n   `sphx_glr_gallery_tutorial_03_api.py`</p></div>\n\n"
      ]
    },
    {
      "cell_type": "code",
      "execution_count": null,
      "metadata": {
        "collapsed": false
      },
      "outputs": [],
      "source": [
        "def simple_compute(a, A):\n    B = hcl.compute(A.shape, lambda x, y: A[x, y] + a.v, \"B\")\n    \"\"\"\n    The above API is equivalent to the following Python code.\n\n    for x in range(0, 10):\n        for y in range(0, 10):\n            B[x, y] = A[x, y] + a\n    \"\"\"\n\n    return B"
      ]
    },
    {
      "cell_type": "markdown",
      "metadata": {},
      "source": [
        "## Inputs/Outputs Definition\nOne of the advantages of such *modularized algorithm definition* is that we\ncan reuse the defined function with different input settings. We use\n``hcl.placeholder`` to set the inputs, where we specify the shape, name,\nand data type. The shape must be specified and should be in the form of a\n**tuple**. If it is empty (i.e., `()`), the returned object is a *scalar*.\nOtherwise, the returned object is a *tensor*. The rest two fields are\noptional. In this example, we define a scalar input `a` and a\ntwo-dimensional tensor input `A`.\n\n<div class=\"alert alert-info\"><h4>Note</h4><p>For more information on the interfaces, please see\n   :obj:`heterocl.placeholder`</p></div>\n\n"
      ]
    },
    {
      "cell_type": "code",
      "execution_count": null,
      "metadata": {
        "collapsed": false
      },
      "outputs": [],
      "source": [
        "a = hcl.placeholder((), \"a\")\nA = hcl.placeholder((10, 10), \"A\")"
      ]
    },
    {
      "cell_type": "markdown",
      "metadata": {},
      "source": [
        "## Apply Hardware Customization\nUsually, our next step is apply various hardware customization techniques to\nthe application. In this tutorial, we skip this step which will be discussed\nin the later tutorials. However, we still need to build a default schedule\nby using ``hcl.create_schedule`` whose inputs are a list of inputs and\nthe Python function that defines the algorithm.\n\n"
      ]
    },
    {
      "cell_type": "code",
      "execution_count": null,
      "metadata": {
        "collapsed": false
      },
      "outputs": [],
      "source": [
        "s = hcl.create_schedule([a, A], simple_compute)"
      ]
    },
    {
      "cell_type": "markdown",
      "metadata": {},
      "source": [
        "## Inspect the Intermediate Representation (IR)\nA HeteroCL program will be lowered to an IR before backend code generation.\nHeteroCL provides an API for users to inspect the lowered IR. This could be\nhelpful for debugging.\n\n"
      ]
    },
    {
      "cell_type": "code",
      "execution_count": null,
      "metadata": {
        "collapsed": false
      },
      "outputs": [],
      "source": [
        "print(hcl.lower(s))"
      ]
    },
    {
      "cell_type": "markdown",
      "metadata": {},
      "source": [
        "## Create the Executable\nThe next step is to build the executable by using ``hcl.build``. You can\ndefine the target of the executable, where the default target is `llvm`.\nNamely, the executable will be run on CPU. The input for this API is the\nschedule we just created.\n\n"
      ]
    },
    {
      "cell_type": "code",
      "execution_count": null,
      "metadata": {
        "collapsed": false
      },
      "outputs": [],
      "source": [
        "f = hcl.build(s)"
      ]
    },
    {
      "cell_type": "markdown",
      "metadata": {},
      "source": [
        "## Prepare the Inputs/Outputs for the Executable\nTo run the generated executable, we can feed it with Numpy arrays by using\n``hcl.asarray``. This API transforms a Numpy array to a HeteroCL container\nthat is used as inputs/outputs to the executable. In this tutorial, we\nrandomly generate the values for our input tensor `A`. Note that since we\nreturn a new tensor at the end of our algorithm, we also need to prepare\nan input array for tensor `B`.\n\n"
      ]
    },
    {
      "cell_type": "code",
      "execution_count": null,
      "metadata": {
        "collapsed": false
      },
      "outputs": [],
      "source": [
        "import numpy as np\n\nhcl_a = 10\nnp_A = np.random.randint(100, size=A.shape)\nhcl_A = hcl.asarray(np_A)\nhcl_B = hcl.asarray(np.zeros(A.shape))"
      ]
    },
    {
      "cell_type": "markdown",
      "metadata": {},
      "source": [
        "## Run the Executable\nWith the prepared inputs/outputs, we can finally feed them to our executable.\n\n"
      ]
    },
    {
      "cell_type": "code",
      "execution_count": null,
      "metadata": {
        "collapsed": false
      },
      "outputs": [],
      "source": [
        "f(hcl_a, hcl_A, hcl_B)"
      ]
    },
    {
      "cell_type": "markdown",
      "metadata": {},
      "source": [
        "## View the Results\nTo view the results, we can transform the HeteroCL tensors back to Numpy\narrays by using ``asnumpy()``.\n\n"
      ]
    },
    {
      "cell_type": "code",
      "execution_count": null,
      "metadata": {
        "collapsed": false
      },
      "outputs": [],
      "source": [
        "np_A = hcl_A.asnumpy()\nnp_B = hcl_B.asnumpy()\n\nprint(hcl_a)\nprint(np_A)\nprint(np_B)"
      ]
    },
    {
      "cell_type": "markdown",
      "metadata": {},
      "source": [
        "Let's run a test\n\n"
      ]
    },
    {
      "cell_type": "code",
      "execution_count": null,
      "metadata": {
        "collapsed": false
      },
      "outputs": [],
      "source": [
        "assert np.array_equal(np_B, np_A + 10)"
      ]
    }
  ],
  "metadata": {
    "kernelspec": {
      "display_name": "Python 3",
      "language": "python",
      "name": "python3"
    },
    "language_info": {
      "codemirror_mode": {
        "name": "ipython",
        "version": 3
      },
      "file_extension": ".py",
      "mimetype": "text/x-python",
      "name": "python",
      "nbconvert_exporter": "python",
      "pygments_lexer": "ipython3",
      "version": "3.10.1"
    }
  },
  "nbformat": 4,
  "nbformat_minor": 0
}