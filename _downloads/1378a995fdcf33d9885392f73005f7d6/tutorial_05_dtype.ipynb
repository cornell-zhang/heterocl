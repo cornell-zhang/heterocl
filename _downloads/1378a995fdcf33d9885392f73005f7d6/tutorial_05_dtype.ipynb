{
  "cells": [
    {
      "cell_type": "code",
      "execution_count": null,
      "metadata": {
        "collapsed": false
      },
      "outputs": [],
      "source": [
        "%matplotlib inline"
      ]
    },
    {
      "cell_type": "markdown",
      "metadata": {},
      "source": [
        "\n# Data Type Customization\n\n**Author**: Yi-Hsiang Lai (seanlatias@github)\n\nIn this tutorial, we will show the data types supported by HeteroCL. In\naddition, we will demonstrate how to apply data type customization in\nHeteroCL.\n"
      ]
    },
    {
      "cell_type": "code",
      "execution_count": null,
      "metadata": {
        "collapsed": false
      },
      "outputs": [],
      "source": [
        "import heterocl as hcl"
      ]
    },
    {
      "cell_type": "markdown",
      "metadata": {},
      "source": [
        "## Data Types Supported by HeteroCL\nHeteroCL supports both bit-accurate data types and floating points. We show\nsome examples below. If no argument is provided, the default bitwidth for\neach type is 32.\n\n"
      ]
    },
    {
      "cell_type": "code",
      "execution_count": null,
      "metadata": {
        "collapsed": false
      },
      "outputs": [],
      "source": [
        "hcl.Int(15)  # 15-bit signed integer\nhcl.UInt(24)  # 24-bit unsigned integer\nhcl.Fixed(13, 5)  # 13-bit signed fixed point with 5 fractional bits\nhcl.UFixed(44, 30)  # 44-bit unsigned fixed point with 30 fractional bits\nhcl.Float(32)  # single-precision floating point\nhcl.Float(64)  # double-precision floating point"
      ]
    },
    {
      "cell_type": "markdown",
      "metadata": {},
      "source": [
        "These data types can be used in ``hcl.init`` to set the default data type\n\n"
      ]
    },
    {
      "cell_type": "code",
      "execution_count": null,
      "metadata": {
        "collapsed": false
      },
      "outputs": [],
      "source": [
        "hcl.init(hcl.Float())"
      ]
    },
    {
      "cell_type": "markdown",
      "metadata": {},
      "source": [
        "## Data Type Customization\nAnother important hardware customization is data type customization, which\ncan be data quantization or downsizing a data type. Data quantization has\nbeen proved to improve hardware efficiency in many accelerators. In HeteroCL,\nto apply data type customization, we need to use ``hcl.create_scheme``,\n\n"
      ]
    },
    {
      "cell_type": "code",
      "execution_count": null,
      "metadata": {
        "collapsed": false
      },
      "outputs": [],
      "source": [
        "A = hcl.placeholder((10,))\n\n\ndef quantization(A):\n    return hcl.compute(A.shape, lambda x: hcl.tanh(A[x]), \"B\")"
      ]
    },
    {
      "cell_type": "markdown",
      "metadata": {},
      "source": [
        "First, let's build the application without applying any quantization scheme.\n\n"
      ]
    },
    {
      "cell_type": "code",
      "execution_count": null,
      "metadata": {
        "collapsed": false
      },
      "outputs": [],
      "source": [
        "s = hcl.create_schedule([A], quantization)\nf = hcl.build(s)\n\nimport numpy as np\n\nhcl_A = hcl.asarray(np.random.rand(10) * 2 - 1)\nhcl_B = hcl.asarray(np.zeros(10))\n\nf(hcl_A, hcl_B)\n\nnp_A = hcl_A.asnumpy()\nnp_B = hcl_B.asnumpy()\n\nprint(\"Before tanh\")\nprint(np_A)\nprint(\"After tanh\")\nprint(np_B)"
      ]
    },
    {
      "cell_type": "markdown",
      "metadata": {},
      "source": [
        "Now let's use ``hcl.create_scheme`` to create a quantization scheme. The\nusage is the same as ``hcl.create_schedule``.\n\n"
      ]
    },
    {
      "cell_type": "code",
      "execution_count": null,
      "metadata": {
        "collapsed": false
      },
      "outputs": [],
      "source": [
        "sm = hcl.create_scheme([A], quantization)\nsm_B = quantization.B"
      ]
    },
    {
      "cell_type": "markdown",
      "metadata": {},
      "source": [
        "After we create the schemes, we have two methods that can be used. First,\nif we are dealing with **integers**, we need to use ``downsize``. Second,\nif we are dealing with **floating points**, we need to use ``quantize``.\nNo matter which method we choose, the first parameter is a list of tensors\nwe want to quantize/downsize and the second parameter is the target data\ntype.\n\n"
      ]
    },
    {
      "cell_type": "code",
      "execution_count": null,
      "metadata": {
        "collapsed": false
      },
      "outputs": [],
      "source": [
        "sm.quantize(sm_B, hcl.Fixed(10, 8))"
      ]
    },
    {
      "cell_type": "markdown",
      "metadata": {},
      "source": [
        "In this example, since we know the output of `tanh` is between 1 and -1,\nwe can safely set the integer part to be 2 bits (i.e., 10-8). The larger\ntotal bitwidth we choose, the more accurate we get. Now we can create the\nschedule by using ``hcl.create_schedule_from_scheme``, build the executable,\nand test it.\n\n"
      ]
    },
    {
      "cell_type": "code",
      "execution_count": null,
      "metadata": {
        "collapsed": false
      },
      "outputs": [],
      "source": [
        "sl = hcl.create_schedule_from_scheme(sm)\nf = hcl.build(sl)\n\nhcl_BQ = hcl.asarray(np.zeros(10), dtype=hcl.Fixed(10, 8))\n\nf(hcl_A, hcl_BQ)\n\nnp_BQ = hcl_BQ.asnumpy()\n\nprint(\"Without quantization\")\nprint(np_B)\nprint(\"Quantized to Fixed(10, 8)\")\nprint(np_BQ)"
      ]
    },
    {
      "cell_type": "markdown",
      "metadata": {},
      "source": [
        "We can double-check this.\n\n"
      ]
    },
    {
      "cell_type": "code",
      "execution_count": null,
      "metadata": {
        "collapsed": false
      },
      "outputs": [],
      "source": [
        "assert np.array_equal(np_BQ, np.trunc(np_B * 256) / 256)"
      ]
    }
  ],
  "metadata": {
    "kernelspec": {
      "display_name": "Python 3",
      "language": "python",
      "name": "python3"
    },
    "language_info": {
      "codemirror_mode": {
        "name": "ipython",
        "version": 3
      },
      "file_extension": ".py",
      "mimetype": "text/x-python",
      "name": "python",
      "nbconvert_exporter": "python",
      "pygments_lexer": "ipython3",
      "version": "3.10.1"
    }
  },
  "nbformat": 4,
  "nbformat_minor": 0
}