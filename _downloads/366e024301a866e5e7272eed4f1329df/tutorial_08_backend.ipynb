{
  "cells": [
    {
      "cell_type": "code",
      "execution_count": null,
      "metadata": {
        "collapsed": false
      },
      "outputs": [],
      "source": [
        "%matplotlib inline"
      ]
    },
    {
      "cell_type": "markdown",
      "metadata": {},
      "source": [
        "\n# Back-end Support\n\n**Author**: Yi-Hsiang Lai (seanlatias@github)\n\nHeteroCL provides multiple back-end supports. Currently, we support both CPU\nand FPGA flows. We will be extending to other back ends including ASICs and\nPIMs (processing in memory). To set to different back ends, simply set the\n``target`` of ``hcl.build`` API. In this tutorial, we will demonstrate how\nto target different back ends in HeteroCL. The same program and schedule will\nbe used throughout the entire tutorial.\n"
      ]
    },
    {
      "cell_type": "code",
      "execution_count": null,
      "metadata": {
        "collapsed": false
      },
      "outputs": [],
      "source": [
        "import heterocl as hcl\nimport numpy as np\n\nhcl.init()\nA = hcl.placeholder((10, 10), \"A\")\n\n\ndef kernel(A):\n    return hcl.compute((8, 8), lambda y, x: A[y][x] + A[y + 2][x + 2], \"B\")\n\n\ns = hcl.create_scheme(A, kernel)\ns.downsize(kernel.B, hcl.UInt(4))\ns = hcl.create_schedule_from_scheme(s)\ns.partition(A)\ns[kernel.B].pipeline(kernel.B.axis[1])"
      ]
    },
    {
      "cell_type": "markdown",
      "metadata": {},
      "source": [
        "## CPU\nCPU is the default back end of a HeteroCL program. If you want to be more\nspecific, set the ``target`` to be ``llvm``. Note the some customization\nprimitives are ignored by the CPU back end. For instance, ``partition`` and\n``pipeline`` have no effect. Instead, we can use ``parallel``.\n\n"
      ]
    },
    {
      "cell_type": "code",
      "execution_count": null,
      "metadata": {
        "collapsed": false
      },
      "outputs": [],
      "source": [
        "f = hcl.build(s)  # equivalent to hcl.build(s, target=\"llvm\")"
      ]
    },
    {
      "cell_type": "markdown",
      "metadata": {},
      "source": [
        "We can execute the returned function as we demonstrated in other tutorials.\n\n"
      ]
    },
    {
      "cell_type": "code",
      "execution_count": null,
      "metadata": {
        "collapsed": false
      },
      "outputs": [],
      "source": [
        "hcl_A = hcl.asarray(np.random.randint(0, 10, A.shape))\nhcl_B = hcl.asarray(np.zeros((8, 8)), dtype=hcl.UInt(4))\nf(hcl_A, hcl_B)"
      ]
    },
    {
      "cell_type": "markdown",
      "metadata": {},
      "source": [
        "## FPGA\nFor FPGA, we provide several back ends.\n\n### Vivado HLS C++ Code Generation\nTo generate Vivado HLS code, simply set the target to ``vhls``. Note that\nthe returned function is a **code** instead of an executable.\n\n"
      ]
    },
    {
      "cell_type": "code",
      "execution_count": null,
      "metadata": {
        "collapsed": false
      },
      "outputs": [],
      "source": [
        "f = hcl.build(s, target=\"vhls\")\nprint(f)"
      ]
    },
    {
      "cell_type": "markdown",
      "metadata": {},
      "source": [
        "### Vivado HLS C++ Code Simulation\nHeteroCL provides users with the ability to simulation the generated HLS\ncode directly from the Python interface. To use this feature, you need to\nhave the Vivado HLS header files in your ``g++`` include path. If this is\nthe case, then we can set target to ``vhls_csim``, which returns an\n**executable**. We can then run it the same as what we do for the CPU back\nend.\n\n<div class=\"alert alert-info\"><h4>Note</h4><p>The Vivado HLS program will not be triggered during the simulation.\n   We only need the header files to be in the path.</p></div>\n\n"
      ]
    },
    {
      "cell_type": "code",
      "execution_count": null,
      "metadata": {
        "collapsed": false
      },
      "outputs": [],
      "source": [
        "import subprocess\nimport sys\n\nproc = subprocess.Popen(\n    \"g++ -E -Wp,-v -xc++ /dev/null\",\n    shell=True,\n    stdout=subprocess.PIPE,\n    stderr=subprocess.PIPE,\n)\nstdout, stderr = proc.communicate()\nif \"Vivado_HLS\" in str(stderr):\n    f = hcl.build(s, target=\"vhls_csim\")\n    f(hcl_A, hcl_B)"
      ]
    },
    {
      "cell_type": "markdown",
      "metadata": {},
      "source": [
        "### Intel HLS C++ Code Generation\nHeteroCL can also generate Intel HLS code. However, due to certain\nlimitation, some directives cannot be generated. To generate the code, set\nthe target to ``ihls``.\n\n"
      ]
    },
    {
      "cell_type": "code",
      "execution_count": null,
      "metadata": {
        "collapsed": false
      },
      "outputs": [],
      "source": [
        "f = hcl.build(s, target=\"ihls\")\nprint(f)"
      ]
    },
    {
      "cell_type": "markdown",
      "metadata": {},
      "source": [
        "### SODA Stencil Code Generation\nHeteroCL incorporates the SODA framework for efficient stencil architecture\ngeneration. For more details, please refer to\n`sphx_glr_gallery_tutorial_09_stencil.py`.\n\n"
      ]
    }
  ],
  "metadata": {
    "kernelspec": {
      "display_name": "Python 3",
      "language": "python",
      "name": "python3"
    },
    "language_info": {
      "codemirror_mode": {
        "name": "ipython",
        "version": 3
      },
      "file_extension": ".py",
      "mimetype": "text/x-python",
      "name": "python",
      "nbconvert_exporter": "python",
      "pygments_lexer": "ipython3",
      "version": "3.10.1"
    }
  },
  "nbformat": 4,
  "nbformat_minor": 0
}